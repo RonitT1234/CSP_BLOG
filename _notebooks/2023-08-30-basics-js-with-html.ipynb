{
 "cells": [
  {
   "cell_type": "markdown",
   "metadata": {},
   "source": [
    "---\n",
    "title: Using Javascript with HTML DOM BIG MEN\n",
    "hide: True \n",
    "description: A Tech Talk on how javascript can interact with HTML DOM\n",
    "type: ccc\n",
    "permalink: /basics/dom\n",
    "author: Rohan Juneja\n",
    "---"
   ]
  },
  {
   "cell_type": "raw",
   "metadata": {},
   "source": [
    "{% include nav_basics.html %}\n"
   ]
  },
  {
   "cell_type": "markdown",
   "metadata": {},
   "source": [
    "# HACK COMPLETE"
   ]
  },
  {
   "cell_type": "code",
   "execution_count": 1,
   "metadata": {
    "vscode": {
     "languageId": "html"
    }
   },
   "outputs": [
    {
     "data": {
      "text/html": [
       "<style>\n",
       "  /* Add CSS to style the button */\n",
       "  #myButton {\n",
       "    background-color: #333333;\n",
       "    color: #00FF00;\n",
       "    border-radius: 25px;\n",
       "    padding: 15px 30px;\n",
       "    transition: all 0.2s ease; /* Add transition for smooth size change */\n",
       "  }\n",
       "</style>\n",
       "\n",
       "<div>\n",
       "  <p id=\"message\">Click the button below to switch the links and change the button color!</p>\n",
       "  <button id=\"myButton\">Switch Button</button>\n",
       "</div>\n",
       "\n",
       "<div>\n",
       "  <a href=\"https://www.youtube.com/watch?v=b65MoVwANq4&t=423s&ab_channel=HeyBearSensory\" id=\"firstLink\">Video 1</a>\n",
       "  <a href=\"https://www.youtube.com/watch?v=qwIjjcXg868&ab_channel=romder\" id=\"secondLink\">Video 2</a>\n",
       "  <p>One is a Batman video, the other is of dancing fruit.</p>\n",
       "</div>\n",
       "\n",
       "<script>\n",
       "  let fontSize = 24; // Initial font size\n",
       "  let padding = 15; // Initial padding size\n",
       "\n",
       "  function buttonClick() {\n",
       "      var firstLinkElement = document.getElementById('firstLink');\n",
       "      var secondLinkElement = document.getElementById('secondLink');\n",
       "      var messageElement = document.getElementById('message');\n",
       "      var buttonElement = document.getElementById('myButton');\n",
       "\n",
       "      var firstLinkHref = firstLinkElement.href;\n",
       "      var secondLinkHref = secondLinkElement.href;\n",
       "\n",
       "      firstLinkElement.href = secondLinkHref;\n",
       "      secondLinkElement.href = firstLinkHref;\n",
       "\n",
       "      // Change the button color randomly\n",
       "      var colors = [\"#FF5733\", \"#33FF57\", \"#5733FF\", \"#FFFF33\", \"#33FFFF\"];\n",
       "      var randomColor = colors[Math.floor(Math.random() * colors.length)];\n",
       "      buttonElement.style.backgroundColor = randomColor;\n",
       "\n",
       "      // Increase font size and padding on each click\n",
       "      fontSize += 2;\n",
       "      padding += 5;\n",
       "\n",
       "      // Apply the updated font size and padding\n",
       "      buttonElement.style.fontSize = fontSize + 'px';\n",
       "      buttonElement.style.padding = padding + 'px';\n",
       "\n",
       "      messageElement.innerHTML = 'Switched!';\n",
       "  }\n",
       "\n",
       "  var buttonElement = document.getElementById('myButton');\n",
       "  buttonElement.addEventListener('click', buttonClick);\n",
       "</script>\n"
      ],
      "text/plain": [
       "<IPython.core.display.HTML object>"
      ]
     },
     "metadata": {},
     "output_type": "display_data"
    }
   ],
   "source": [
    "%%html\n",
    "<style>\n",
    "  /* Add CSS to style the button */\n",
    "  #myButton {\n",
    "    background-color: #333333;\n",
    "    color: #00FF00;\n",
    "    border-radius: 25px;\n",
    "    padding: 15px 30px;\n",
    "    transition: all 0.2s ease; /* Add transition for smooth size change */\n",
    "  }\n",
    "</style>\n",
    "\n",
    "<div>\n",
    "  <p id=\"message\">Click the button below to switch the links and change the button color!</p>\n",
    "  <button id=\"myButton\">Switch Button</button>\n",
    "</div>\n",
    "\n",
    "<div>\n",
    "  <a href=\"https://www.youtube.com/watch?v=b65MoVwANq4&t=423s&ab_channel=HeyBearSensory\" id=\"firstLink\">Video 1</a>\n",
    "  <a href=\"https://www.youtube.com/watch?v=qwIjjcXg868&ab_channel=romder\" id=\"secondLink\">Video 2</a>\n",
    "  <p>One is a Batman video, the other is of dancing fruit.</p>\n",
    "</div>\n",
    "\n",
    "<script>\n",
    "  let fontSize = 24; // Initial font size\n",
    "  let padding = 15; // Initial padding size\n",
    "\n",
    "  function buttonClick() {\n",
    "      var firstLinkElement = document.getElementById('firstLink');\n",
    "      var secondLinkElement = document.getElementById('secondLink');\n",
    "      var messageElement = document.getElementById('message');\n",
    "      var buttonElement = document.getElementById('myButton');\n",
    "\n",
    "      var firstLinkHref = firstLinkElement.href;\n",
    "      var secondLinkHref = secondLinkElement.href;\n",
    "\n",
    "      firstLinkElement.href = secondLinkHref;\n",
    "      secondLinkElement.href = firstLinkHref;\n",
    "\n",
    "      // Change the button color randomly\n",
    "      var colors = [\"#FF5733\", \"#33FF57\", \"#5733FF\", \"#FFFF33\", \"#33FFFF\"];\n",
    "      var randomColor = colors[Math.floor(Math.random() * colors.length)];\n",
    "      buttonElement.style.backgroundColor = randomColor;\n",
    "\n",
    "      // Increase font size and padding on each click\n",
    "      fontSize += 2;\n",
    "      padding += 5;\n",
    "\n",
    "      // Apply the updated font size and padding\n",
    "      buttonElement.style.fontSize = fontSize + 'px';\n",
    "      buttonElement.style.padding = padding + 'px';\n",
    "\n",
    "      messageElement.innerHTML = 'Switched!';\n",
    "  }\n",
    "\n",
    "  var buttonElement = document.getElementById('myButton');\n",
    "  buttonElement.addEventListener('click', buttonClick);\n",
    "</script>"
   ]
  },
  {
   "cell_type": "markdown",
   "metadata": {},
   "source": [
    "\n",
    "# Following along\n",
    "Remember to \"git pull\" on teacher repository to update to lates.\n",
    "- Run this notebook in VSCode\n",
    "- Activate Help-Toogel Developer Tools to add console outputs to runtime experience"
   ]
  },
  {
   "cell_type": "markdown",
   "metadata": {},
   "source": [
    "# Referencing HTML elements using javascript\n",
    "- To get an HTML element, use ``document.getElementById(\"idTag\")``\n",
    "- You will use the ID that you set in your HTML\n",
    "- if you `console.log` the resulting variable you will get some information about the element"
   ]
  },
  {
   "cell_type": "code",
   "execution_count": 4,
   "metadata": {},
   "outputs": [
    {
     "data": {
      "text/html": [
       "<!-- the ID must be specified within the element -->\n",
       "<h1 id=\"domTitleID\">My Title</h1>\n",
       "\n",
       "<!-- javascript goes here -->\n",
       "<script>\n",
       "var titleElement = document.getElementById(\"domTitleID\")\n",
       "<!-- outputs h1 tag -->\n",
       "console.log(\"Example #1, show element in DOM\")\n",
       "console.log(titleElement)\n",
       "</script>\n"
      ],
      "text/plain": [
       "<IPython.core.display.HTML object>"
      ]
     },
     "metadata": {},
     "output_type": "display_data"
    }
   ],
   "source": [
    "%%html\n",
    "<!-- the ID must be specified within the element -->\n",
    "<h1 id=\"domTitleID\">My Title</h1>\n",
    "\n",
    "<!-- javascript goes here -->\n",
    "<script>\n",
    "var titleElement = document.getElementById(\"domTitleID\")\n",
    "<!-- outputs h1 tag -->\n",
    "console.log(\"Example #1, show element in DOM\")\n",
    "console.log(titleElement)\n",
    "</script>"
   ]
  },
  {
   "cell_type": "markdown",
   "metadata": {},
   "source": [
    "# Getting the data within the HTML element\n",
    "- The variable titleElement stores the \"object\"\n",
    "- Basically think of this as the group of data enclosed in HTML tag\n",
    "- To access a certain type of data from an \"object\" we use \".\" notation\n",
    "  - .innerHTML gets data within center of tag"
   ]
  },
  {
   "cell_type": "code",
   "execution_count": 5,
   "metadata": {},
   "outputs": [
    {
     "data": {
      "text/html": [
       "<!-- the ID must be specified within the element -->\n",
       "<h1 id=\"domTitleIDget\">My Title</h1>\n",
       "\n",
       "<!-- javascript goes here -->\n",
       "<script>\n",
       "var titleElement = document.getElementById(\"domTitleIDget\")\n",
       "<!-- outputs h1 innerHTML from h1 tag -->\n",
       "console.log(\"Example #2, show innerHTML\")\n",
       "console.log(titleElement.innerHTML)\n",
       "</script>\n"
      ],
      "text/plain": [
       "<IPython.core.display.HTML object>"
      ]
     },
     "metadata": {},
     "output_type": "display_data"
    }
   ],
   "source": [
    "%%html\n",
    "<!-- the ID must be specified within the element -->\n",
    "<h1 id=\"domTitleIDget\">My Title</h1>\n",
    "\n",
    "<!-- javascript goes here -->\n",
    "<script>\n",
    "var titleElement = document.getElementById(\"domTitleIDget\")\n",
    "<!-- outputs h1 innerHTML from h1 tag -->\n",
    "console.log(\"Example #2, show innerHTML\")\n",
    "console.log(titleElement.innerHTML)\n",
    "</script>"
   ]
  },
  {
   "cell_type": "markdown",
   "metadata": {},
   "source": [
    "# Setting the data within the HTML Element\n",
    "- The innerHTML data in this \"object\" can be set like a variable\n",
    "  - Change the value of the innerHTML using the \"=\" (assignment) operator"
   ]
  },
  {
   "cell_type": "code",
   "execution_count": 9,
   "metadata": {},
   "outputs": [
    {
     "data": {
      "text/html": [
       "<!-- the ID must be specified on the element -->\n",
       "<h1 id=\"domTitleIDset\">My Title</h1>\n",
       "\n",
       "<!-- javascript goes here -->\n",
       "<script>\n",
       "var titleElement = document.getElementById(\"domTitleIDset\")\n",
       "titleElement.innerHTML = \"Set and Update My Title\"\n",
       "<!-- outputs h1 innerHTML after h1 tag has been updated -->\n",
       "console.log(\"Example #3, update innerHTML\")\n",
       "console.log(titleElement.innerHTML)\n",
       "</script>\n"
      ],
      "text/plain": [
       "<IPython.core.display.HTML object>"
      ]
     },
     "metadata": {},
     "output_type": "display_data"
    }
   ],
   "source": [
    "%%html\n",
    "<!-- the ID must be specified on the element -->\n",
    "<h1 id=\"domTitleIDset\">My Title</h1>\n",
    "\n",
    "<!-- javascript goes here -->\n",
    "<script>\n",
    "var titleElement = document.getElementById(\"domTitleIDset\")\n",
    "titleElement.innerHTML = \"Set and Update My Title\"\n",
    "<!-- outputs h1 innerHTML after h1 tag has been updated -->\n",
    "console.log(\"Example #3, update innerHTML\")\n",
    "console.log(titleElement.innerHTML)\n",
    "</script>"
   ]
  },
  {
   "cell_type": "markdown",
   "metadata": {},
   "source": [
    "# Creating elements\n",
    "- Create a new element with the document.createElement function -> takes in the type of element\n",
    "- Set properties in the element just like the \"h1\" example"
   ]
  },
  {
   "cell_type": "code",
   "execution_count": 10,
   "metadata": {},
   "outputs": [
    {
     "data": {
      "text/html": [
       "<!-- the ID must be specified on the element -->\n",
       "<div id=\"divContainerID\">\n",
       "    <h1 id=\"h1ElementID\">My Title</h1>\n",
       "</div>\n",
       "\n",
       "<!-- javascript goes here -->\n",
       "<script>\n",
       "   // creates a new element\n",
       "   var pElement = document.createElement(\"p\")\n",
       "   pElement.innerHTML = \"Starting a paragraph of text.\"\n",
       "   \n",
       "   // outputs p tag after it has been created\n",
       "   console.log(\"Example #4, create a p tag within JS\")\n",
       "   console.log(pElement)\n",
       "</script>\n"
      ],
      "text/plain": [
       "<IPython.core.display.HTML object>"
      ]
     },
     "metadata": {},
     "output_type": "display_data"
    }
   ],
   "source": [
    "%%html\n",
    "<!-- the ID must be specified on the element -->\n",
    "<div id=\"divContainerID\">\n",
    "    <h1 id=\"h1ElementID\">My Title</h1>\n",
    "</div>\n",
    "\n",
    "<!-- javascript goes here -->\n",
    "<script>\n",
    "   // creates a new element\n",
    "   var pElement = document.createElement(\"p\")\n",
    "   pElement.innerHTML = \"Starting a paragraph of text.\"\n",
    "   \n",
    "   // outputs p tag after it has been created\n",
    "   console.log(\"Example #4, create a p tag within JS\")\n",
    "   console.log(pElement)\n",
    "</script>"
   ]
  },
  {
   "cell_type": "markdown",
   "metadata": {},
   "source": [
    "# Issue! How to Create element that appears in HTML?\n",
    "- Here is a visualization of what is happening => the \"p\" is not placed inside the HRML page!\n",
    "![visual on p tag floating]({{ site.baseurl }}/images/dom-visual-1.png)\n"
   ]
  },
  {
   "cell_type": "markdown",
   "metadata": {},
   "source": [
    "# Solution\n",
    "- Correct by placeing the element somewhere in the page\n",
    "- For example, we could add the element within the div\n",
    "   - For this, use the appendChild function on the div object (the parameter would be the p element we created)\n",
    "   - Remember, use the getELementById to get the object for something in the html (the div!)\n",
    "- Updated Diagram\n",
    "![visual on p tag in div]({{ site.baseurl }}/images/dom-visual-2.png)"
   ]
  },
  {
   "cell_type": "code",
   "execution_count": 11,
   "metadata": {},
   "outputs": [
    {
     "data": {
      "text/html": [
       "<!-- the ID must be specified on the element -->\n",
       "<div id=\"divContainerIDset\">\n",
       "    <h1 id=\"h1ElementIDset\">My Title</h1>\n",
       "</div>\n",
       "\n",
       "<!-- javascript goes here -->\n",
       "<script>\n",
       "   // creates a new element\n",
       "   var pElement = document.createElement(\"p\")\n",
       "   pElement.innerHTML = \"Starting a paragraph of text.\"\n",
       "   \n",
       "   // outputs p tag after it has been created\n",
       "   console.log(\"Example #5, add p tag to HTML\")\n",
       "   console.log(pElement)\n",
       "   \n",
       "   // place the p element inside the HTML page\n",
       "   var div = document.getElementById(\"divContainerIDset\")\n",
       "   div.appendChild(pElement)\n",
       "</script>\n"
      ],
      "text/plain": [
       "<IPython.core.display.HTML object>"
      ]
     },
     "metadata": {},
     "output_type": "display_data"
    }
   ],
   "source": [
    "%%html\n",
    "<!-- the ID must be specified on the element -->\n",
    "<div id=\"divContainerIDset\">\n",
    "    <h1 id=\"h1ElementIDset\">My Title</h1>\n",
    "</div>\n",
    "\n",
    "<!-- javascript goes here -->\n",
    "<script>\n",
    "   // creates a new element\n",
    "   var pElement = document.createElement(\"p\")\n",
    "   pElement.innerHTML = \"Starting a paragraph of text.\"\n",
    "   \n",
    "   // outputs p tag after it has been created\n",
    "   console.log(\"Example #5, add p tag to HTML\")\n",
    "   console.log(pElement)\n",
    "   \n",
    "   // place the p element inside the HTML page\n",
    "   var div = document.getElementById(\"divContainerIDset\")\n",
    "   div.appendChild(pElement)\n",
    "</script>"
   ]
  },
  {
   "cell_type": "markdown",
   "metadata": {},
   "source": [
    "# Functions in JavaScript, using with DOM\n",
    "- Functions allow you to \"do something\"\n",
    "  - ex. \"eat food\" in a Snake Game\n",
    "- Functions were used in previous examples\n",
    "  - console.log = \"print something\"\n",
    "  - document.getElementById = \"find an element with id\"\n",
    "- Functions take in parameters, what to do (inside the parenthesis)\n",
    "  - the parameter tells console.log what to print\n",
    "  - the parameter in document.getElementById tells the id of the element\n",
    "- Functions can be used with DOM as well, thes will be shown below"
   ]
  },
  {
   "cell_type": "markdown",
   "metadata": {},
   "source": [
    "# Creeating functions\n",
    "- document functions functions were used to create a lot of functionality, but how can a developer create their own?\n",
    "- function are useful to avoid writing the same code over and over again\n",
    "- function can contain parameters for input (they effectively become variables)\n",
    "- function can contain a return, the are the \"output\" of the function"
   ]
  },
  {
   "cell_type": "code",
   "execution_count": 12,
   "metadata": {},
   "outputs": [
    {
     "data": {
      "text/html": [
       "<!-- the ID must be specified on the element -->\n",
       "<div id=\"divContainerIDfunction\">\n",
       "    <h1 id=\"h1ElementIDfunction\">My Title</h1>\n",
       "</div>\n",
       "\n",
       "<!-- javascript goew here -->\n",
       "<script>\n",
       "    // define a function => takes parameter text, returns a new p tab\n",
       "    function createPTag(text) {\n",
       "        // creates a new element\n",
       "        var pElement = document.createElement(\"p\")\n",
       "\n",
       "        // using the parameter like a variable\n",
       "        pElement.innerHTML = text\n",
       "        \n",
       "        // outputs p tag after it has been created\n",
       "        console.log(\"Example #6, add p tag using a function\")\n",
       "        console.log(pElement)\n",
       "\n",
       "        return pElement;\n",
       "    }\n",
       "\n",
       "    // using a function to create p tag\n",
       "    var pTag = createPTag(\"Starting a paragraph with cooler text than before.\")\n",
       "\n",
       "    // place the p element in the webpage\n",
       "    var div = document.getElementById(\"divContainerIDfunction\")\n",
       "    div.appendChild(pTag)\n",
       "</script>\n"
      ],
      "text/plain": [
       "<IPython.core.display.HTML object>"
      ]
     },
     "metadata": {},
     "output_type": "display_data"
    }
   ],
   "source": [
    "%%html\n",
    "<!-- the ID must be specified on the element -->\n",
    "<div id=\"divContainerIDfunction\">\n",
    "    <h1 id=\"h1ElementIDfunction\">My Title</h1>\n",
    "</div>\n",
    "\n",
    "<!-- javascript goew here -->\n",
    "<script>\n",
    "    // define a function => takes parameter text, returns a new p tab\n",
    "    function createPTag(text) {\n",
    "        // creates a new element\n",
    "        var pElement = document.createElement(\"p\")\n",
    "\n",
    "        // using the parameter like a variable\n",
    "        pElement.innerHTML = text\n",
    "        \n",
    "        // outputs p tag after it has been created\n",
    "        console.log(\"Example #6, add p tag using a function\")\n",
    "        console.log(pElement)\n",
    "\n",
    "        return pElement;\n",
    "    }\n",
    "\n",
    "    // using a function to create p tag\n",
    "    var pTag = createPTag(\"Starting a paragraph with cooler text than before.\")\n",
    "\n",
    "    // place the p element in the webpage\n",
    "    var div = document.getElementById(\"divContainerIDfunction\")\n",
    "    div.appendChild(pTag)\n",
    "</script>"
   ]
  },
  {
   "cell_type": "markdown",
   "metadata": {},
   "source": [
    "# OnClick Event\n",
    "- Run a function when an event occurs\n",
    "   - In this case, the p tag is created when the button is clicked"
   ]
  },
  {
   "cell_type": "code",
   "execution_count": 13,
   "metadata": {},
   "outputs": [
    {
     "data": {
      "text/html": [
       "<!-- the ID must be specified on the elements -->\n",
       "<button id=\"buttonID\">Click here!</button>\n",
       "\n",
       "<div id=\"divContainerIDbutton\">\n",
       "    <h1 id=\"h1ElementIDbutton\">My Title</h1>\n",
       "</div>\n",
       "\n",
       "<!-- our javascript goe here -->\n",
       "<script>\n",
       "    // define a function => takes parameter text, returns a new p tab\n",
       "    function createPTag(text) {\n",
       "        // creates a new element\n",
       "        var pElement = document.createElement(\"p\")\n",
       "\n",
       "        // using the parameter like a variable\n",
       "        pElement.innerHTML = text\n",
       "        \n",
       "        // outputs p tag after it has been created\n",
       "        console.log(\"Example #7.1, add p tag using a function\")\n",
       "        console.log(pElement)\n",
       "\n",
       "        return pElement;\n",
       "    }\n",
       "\n",
       "    // create a function that sets specific text and adds to div\n",
       "    function addPTagOnButton() {\n",
       "        // using our new function\n",
       "        var pTag = createPTag(\"Starting a paragraph with text created on button press.\")\n",
       "\n",
       "        // place the p element in the webpage\n",
       "        var div = document.getElementById(\"divContainerIDbutton\")\n",
       "\n",
       "        // add p tag to the div\n",
       "        div.appendChild(pTag)\n",
       "        \n",
       "        // outputs p tag after it has been created\n",
       "        console.log(\"Example #7.2, update container adding a 'p' tag\")\n",
       "        console.log(div)\n",
       "    }\n",
       "\n",
       "    // add the P tag when our button is clicked\n",
       "    var myButton = document.getElementById(\"buttonID\")\n",
       "    myButton.onclick = addPTagOnButton\n",
       "    \n",
       "</script>\n"
      ],
      "text/plain": [
       "<IPython.core.display.HTML object>"
      ]
     },
     "metadata": {},
     "output_type": "display_data"
    }
   ],
   "source": [
    "%%html\n",
    "<!-- the ID must be specified on the elements -->\n",
    "<button id=\"buttonID\">Click here!</button>\n",
    "\n",
    "<div id=\"divContainerIDbutton\">\n",
    "    <h1 id=\"h1ElementIDbutton\">My Title</h1>\n",
    "</div>\n",
    "\n",
    "<!-- our javascript goe here -->\n",
    "<script>\n",
    "    // define a function => takes parameter text, returns a new p tab\n",
    "    function createPTag(text) {\n",
    "        // creates a new element\n",
    "        var pElement = document.createElement(\"p\")\n",
    "\n",
    "        // using the parameter like a variable\n",
    "        pElement.innerHTML = text\n",
    "        \n",
    "        // outputs p tag after it has been created\n",
    "        console.log(\"Example #7.1, add p tag using a function\")\n",
    "        console.log(pElement)\n",
    "\n",
    "        return pElement;\n",
    "    }\n",
    "\n",
    "    // create a function that sets specific text and adds to div\n",
    "    function addPTagOnButton() {\n",
    "        // using our new function\n",
    "        var pTag = createPTag(\"Starting a paragraph with text created on button press.\")\n",
    "\n",
    "        // place the p element in the webpage\n",
    "        var div = document.getElementById(\"divContainerIDbutton\")\n",
    "\n",
    "        // add p tag to the div\n",
    "        div.appendChild(pTag)\n",
    "        \n",
    "        // outputs p tag after it has been created\n",
    "        console.log(\"Example #7.2, update container adding a 'p' tag\")\n",
    "        console.log(div)\n",
    "    }\n",
    "\n",
    "    // add the P tag when our button is clicked\n",
    "    var myButton = document.getElementById(\"buttonID\")\n",
    "    myButton.onclick = addPTagOnButton\n",
    "    \n",
    "</script>"
   ]
  },
  {
   "cell_type": "markdown",
   "metadata": {},
   "source": [
    "# Hacks\n",
    "- Copy your HTML code from the HTML hacks. Write a Javascript snippet to switch the links of the two a tags when a button is pressed. Once they are switched, change the inner HTML of the top p tag to the word \"switched!\""
   ]
  },
  {
   "cell_type": "code",
   "execution_count": 38,
   "metadata": {
    "vscode": {
     "languageId": "html"
    }
   },
   "outputs": [
    {
     "data": {
      "text/html": [
       "<style>\n",
       "  /* Add CSS to style the button */\n",
       "  #myButton {\n",
       "    background-color: #333333;\n",
       "    color: #00FF00;\n",
       "    border-radius: 25px;\n",
       "    padding: 15px 30px;\n",
       "    transition: all 0.2s ease; /* Add transition for smooth size change */\n",
       "  }\n",
       "</style>\n",
       "\n",
       "<div>\n",
       "  <p id=\"message\">Click the button below to switch the links and change the button color!</p>\n",
       "  <button id=\"myButton\">Switch Button</button>\n",
       "</div>\n",
       "\n",
       "<div>\n",
       "  <a href=\"https://www.youtube.com/watch?v=b65MoVwANq4&t=423s&ab_channel=HeyBearSensory\" id=\"firstLink\">Video 1</a>\n",
       "  <a href=\"https://www.youtube.com/watch?v=qwIjjcXg868&ab_channel=romder\" id=\"secondLink\">Video 2</a>\n",
       "  <p>One is a Batman video, the other is of dancing fruit.</p>\n",
       "</div>\n",
       "\n",
       "<script>\n",
       "  let fontSize = 24; // Initial font size\n",
       "  let padding = 15; // Initial padding size\n",
       "\n",
       "  function buttonClick() {\n",
       "      var firstLinkElement = document.getElementById('firstLink');\n",
       "      var secondLinkElement = document.getElementById('secondLink');\n",
       "      var messageElement = document.getElementById('message');\n",
       "      var buttonElement = document.getElementById('myButton');\n",
       "\n",
       "      var firstLinkHref = firstLinkElement.href;\n",
       "      var secondLinkHref = secondLinkElement.href;\n",
       "\n",
       "      firstLinkElement.href = secondLinkHref;\n",
       "      secondLinkElement.href = firstLinkHref;\n",
       "\n",
       "      // Change the button color randomly\n",
       "      var colors = [\"#FF5733\", \"#33FF57\", \"#5733FF\", \"#FFFF33\", \"#33FFFF\"];\n",
       "      var randomColor = colors[Math.floor(Math.random() * colors.length)];\n",
       "      buttonElement.style.backgroundColor = randomColor;\n",
       "\n",
       "      // Increase font size and padding on each click\n",
       "      fontSize += 2;\n",
       "      padding += 5;\n",
       "\n",
       "      // Apply the updated font size and padding\n",
       "      buttonElement.style.fontSize = fontSize + 'px';\n",
       "      buttonElement.style.padding = padding + 'px';\n",
       "\n",
       "      messageElement.innerHTML = 'Switched!';\n",
       "  }\n",
       "\n",
       "  var buttonElement = document.getElementById('myButton');\n",
       "  buttonElement.addEventListener('click', buttonClick);\n",
       "</script>\n"
      ],
      "text/plain": [
       "<IPython.core.display.HTML object>"
      ]
     },
     "metadata": {},
     "output_type": "display_data"
    }
   ],
   "source": [
    "%%html\n",
    "<style>\n",
    "  /* Add CSS to style the button */\n",
    "  #myButton {\n",
    "    background-color: #333333;\n",
    "    color: #00FF00;\n",
    "    border-radius: 25px;\n",
    "    padding: 15px 30px;\n",
    "    transition: all 0.2s ease; /* Add transition for smooth size change */\n",
    "  }\n",
    "</style>\n",
    "\n",
    "<div>\n",
    "  <p id=\"message\">Click the button below to switch the links and change the button color!</p>\n",
    "  <button id=\"myButton\">Switch Button</button>\n",
    "</div>\n",
    "\n",
    "<div>\n",
    "  <a href=\"https://www.youtube.com/watch?v=b65MoVwANq4&t=423s&ab_channel=HeyBearSensory\" id=\"firstLink\">Video 1</a>\n",
    "  <a href=\"https://www.youtube.com/watch?v=qwIjjcXg868&ab_channel=romder\" id=\"secondLink\">Video 2</a>\n",
    "  <p>One is a Batman video, the other is of dancing fruit.</p>\n",
    "</div>\n",
    "\n",
    "<script>\n",
    "  let fontSize = 24; // Initial font size\n",
    "  let padding = 15; // Initial padding size\n",
    "\n",
    "  function buttonClick() {\n",
    "      var firstLinkElement = document.getElementById('firstLink');\n",
    "      var secondLinkElement = document.getElementById('secondLink');\n",
    "      var messageElement = document.getElementById('message');\n",
    "      var buttonElement = document.getElementById('myButton');\n",
    "\n",
    "      var firstLinkHref = firstLinkElement.href;\n",
    "      var secondLinkHref = secondLinkElement.href;\n",
    "\n",
    "      firstLinkElement.href = secondLinkHref;\n",
    "      secondLinkElement.href = firstLinkHref;\n",
    "\n",
    "      // Change the button color randomly\n",
    "      var colors = [\"#FF5733\", \"#33FF57\", \"#5733FF\", \"#FFFF33\", \"#33FFFF\"];\n",
    "      var randomColor = colors[Math.floor(Math.random() * colors.length)];\n",
    "      buttonElement.style.backgroundColor = randomColor;\n",
    "\n",
    "      // Increase font size and padding on each click\n",
    "      fontSize += 2;\n",
    "      padding += 5;\n",
    "\n",
    "      // Apply the updated font size and padding\n",
    "      buttonElement.style.fontSize = fontSize + 'px';\n",
    "      buttonElement.style.padding = padding + 'px';\n",
    "\n",
    "      messageElement.innerHTML = 'Switched!';\n",
    "  }\n",
    "\n",
    "  var buttonElement = document.getElementById('myButton');\n",
    "  buttonElement.addEventListener('click', buttonClick);\n",
    "</script>"
   ]
  }
 ],
 "metadata": {
  "kernelspec": {
   "display_name": "Python 3",
   "language": "python",
   "name": "python3"
  },
  "language_info": {
   "codemirror_mode": {
    "name": "ipython",
    "version": 3
   },
   "file_extension": ".py",
   "mimetype": "text/x-python",
   "name": "python",
   "nbconvert_exporter": "python",
   "pygments_lexer": "ipython3",
   "version": "3.10.12"
  },
  "orig_nbformat": 4
 },
 "nbformat": 4,
 "nbformat_minor": 2
}
