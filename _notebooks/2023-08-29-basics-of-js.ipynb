{
 "cells": [
  {
   "cell_type": "markdown",
   "metadata": {},
   "source": [
    "---\n",
    "title: Basics of Javascript\n",
    "hide: True\n",
    "description: A Tech Talk on how to use javascript\n",
    "type: ccc\n",
    "permalink: /basics/javascript\n",
    "author: Rohan Juneja\n",
    "---"
   ]
  },
  {
   "cell_type": "raw",
   "metadata": {},
   "source": [
    "{% include nav_basics.html %}\n"
   ]
  },
  {
   "cell_type": "markdown",
   "metadata": {},
   "source": [
    "# HACK COMPLETE"
   ]
  },
  {
   "cell_type": "code",
   "execution_count": 4,
   "metadata": {
    "vscode": {
     "languageId": "javascript"
    }
   },
   "outputs": [
    {
     "data": {
      "application/javascript": "\nlet batmanStrength = parseFloat(prompt(\"Enter Batman's strength level (0-100):\"));\nlet jokerStrength = parseFloat(prompt(\"Enter Joker's strength level (0-100):\"));\nif (!isNaN(batmanStrength) && !isNaN(jokerStrength)) {\n  if (batmanStrength > jokerStrength) {\n    console.log(\"Batman is greater! He defeats the Joker.\");\n  } else if (jokerStrength > batmanStrength) {\n    console.log(\"The Joker is greater! Batman is in trouble.\");\n  } else {\n    console.log(\"Batman and the Joker are evenly matched in strength!\");\n  }\n} else {\n  console.log(\"Please enter valid numeric values for Batman and Joker's strength levels.\");\n}\n",
      "text/plain": [
       "<IPython.core.display.Javascript object>"
      ]
     },
     "metadata": {},
     "output_type": "display_data"
    }
   ],
   "source": [
    "%%js\n",
    "\n",
    "let batmanStrength = parseFloat(prompt(\"Enter Batman's strength level (0-100):\"));\n",
    "let jokerStrength = parseFloat(prompt(\"Enter Joker's strength level (0-100):\"));\n",
    "if (!isNaN(batmanStrength) && !isNaN(jokerStrength)) {\n",
    "  if (batmanStrength > jokerStrength) {\n",
    "    console.log(\"Batman is greater! He defeats the Joker.\");\n",
    "  } else if (jokerStrength > batmanStrength) {\n",
    "    console.log(\"The Joker is greater! Batman is in trouble.\");\n",
    "  } else {\n",
    "    console.log(\"Batman and the Joker are evenly matched in strength!\");\n",
    "  }\n",
    "} else {\n",
    "  console.log(\"Please enter valid numeric values for Batman and Joker's strength levels.\");\n",
    "}"
   ]
  }
 ],
 "metadata": {
  "kernelspec": {
   "display_name": "Python 3 (ipykernel)",
   "language": "python",
   "name": "python3"
  },
  "language_info": {
   "codemirror_mode": {
    "name": "ipython",
    "version": 3
   },
   "file_extension": ".py",
   "mimetype": "text/x-python",
   "name": "python",
   "nbconvert_exporter": "python",
   "pygments_lexer": "ipython3",
   "version": "3.10.12"
  }
 },
 "nbformat": 4,
 "nbformat_minor": 2
}
