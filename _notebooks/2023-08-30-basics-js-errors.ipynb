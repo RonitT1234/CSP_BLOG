{
 "cells": [
  {
   "cell_type": "code",
   "execution_count": 1,
   "metadata": {},
   "outputs": [
    {
     "data": {
      "application/javascript": [
       "\n",
       "\n",
       "var alphabet = \"abcdefghijklmnopqrstuvwxyz\";\n",
       "var alphabetList = [];\n",
       "\n",
       "for (var i = 0; i < 27; i++) {\n",
       "\talphabetList.push(alphabet[i]);\n",
       "}\n",
       "\n",
       "console.log(alphabetList);\n"
      ],
      "text/plain": [
       "<IPython.core.display.Javascript object>"
      ]
     },
     "metadata": {},
     "output_type": "display_data"
    }
   ],
   "source": [
    "%%js\n",
    "\n",
    "\n",
    "var alphabet = \"abcdefghijklmnopqrstuvwxyz\";\n",
    "var alphabetList = [];\n",
    "\n",
    "for (var i = 0; i < 27; i++) {\n",
    "\talphabetList.push(alphabet[i]);\n",
    "}\n",
    "\n",
    "console.log(alphabetList);"
   ]
  },
  {
   "cell_type": "markdown",
   "metadata": {},
   "source": [
    "# What I Changed\n",
    "I changed alphabetList.push(i) to alphabetList.push(alphabet[i])"
   ]
  },
  {
   "cell_type": "code",
   "execution_count": 2,
   "metadata": {},
   "outputs": [
    {
     "data": {
      "application/javascript": [
       "\n",
       "// Copy your previous code to built alphabetList here\n",
       "var alphabet = \"abcdefghijklmnopqrstuvwxyz\";\n",
       "var alphabetList = [];\n",
       "\n",
       "for (var i = 0; i < 27; i++) {\n",
       "  alphabetList.push(alphabet[i]);\n",
       "}\n",
       "\n",
       "let letterNumber = 15;\n",
       "\n",
       "for (var i = 0; i < alphabetList.length; i++) {\n",
       "  if (alphabetList[i] === alphabet[letterNumber - 1]) {\n",
       "    console.log(alphabetList[i] + \" is letter number \" + letterNumber + \" in the alphabet\");\n",
       "  }\n",
       "}\n",
       "// Should output:\n",
       "// \"e\" is letter number 5 in the alphabet\n"
      ],
      "text/plain": [
       "<IPython.core.display.Javascript object>"
      ]
     },
     "metadata": {},
     "output_type": "display_data"
    }
   ],
   "source": [
    "%%js\n",
    "\n",
    "// Copy your previous code to built alphabetList here\n",
    "var alphabet = \"abcdefghijklmnopqrstuvwxyz\";\n",
    "var alphabetList = [];\n",
    "\n",
    "for (var i = 0; i < 27; i++) {\n",
    "  alphabetList.push(alphabet[i]);\n",
    "}\n",
    "\n",
    "let letterNumber = 15;\n",
    "\n",
    "for (var i = 0; i < alphabetList.length; i++) {\n",
    "  if (alphabetList[i] === alphabet[letterNumber - 1]) {\n",
    "    console.log(alphabetList[i] + \" is letter number \" + letterNumber + \" in the alphabet\");\n",
    "  }\n",
    "}\n",
    "// Should output:\n",
    "// \"e\" is letter number 5 in the alphabet"
   ]
  },
  {
   "cell_type": "markdown",
   "metadata": {},
   "source": [
    "# What I Changed\n",
    "I changed the overall structure of the for loop and if statements contained inside"
   ]
  },
  {
   "cell_type": "code",
   "execution_count": 3,
   "metadata": {},
   "outputs": [
    {
     "data": {
      "application/javascript": [
       "\n",
       "let evens = [];\n",
       "let odds = [];\n",
       "let i = 0;\n",
       "\n",
       "while (i <= 10) {\n",
       "  evens.push(i);\n",
       "  if (i + 1 <= 10) {\n",
       "    odds.push(i + 1);\n",
       "  }\n",
       "  i += 2;\n",
       "}\n",
       "\n",
       "console.log(\"Evens: \" + evens);\n",
       "console.log(\"Odds: \" + odds);\n"
      ],
      "text/plain": [
       "<IPython.core.display.Javascript object>"
      ]
     },
     "metadata": {},
     "output_type": "display_data"
    }
   ],
   "source": [
    "%%js\n",
    "\n",
    "let evens = [];\n",
    "let odds = [];\n",
    "let i = 0;\n",
    "\n",
    "while (i <= 10) {\n",
    "  evens.push(i);\n",
    "  if (i + 1 <= 10) {\n",
    "    odds.push(i + 1);\n",
    "  }\n",
    "  i += 2;\n",
    "}\n",
    "\n",
    "console.log(\"Evens: \" + evens);\n",
    "console.log(\"Odds: \" + odds);"
   ]
  },
  {
   "cell_type": "markdown",
   "metadata": {},
   "source": [
    "# What I Changed\n",
    "I changed nothing to the orginal code but added one for counting all the odds in a while loop to make it more effecient"
   ]
  },
  {
   "cell_type": "code",
   "execution_count": 4,
   "metadata": {},
   "outputs": [
    {
     "data": {
      "application/javascript": [
       "\n",
       "var numbers = []\n",
       "var newNumbers = []\n",
       "var i = 0\n",
       "\n",
       "while (i < 100) {\n",
       "    numbers.push(i)\n",
       "    i += 1\n",
       "}\n",
       "for (var i of numbers) {\n",
       "    if (numbers[i] % 5 === 0)\n",
       "        newNumbers.push(numbers[i])\n",
       "    else if (numbers[i] % 2 === 0)\n",
       "        newNumbers.push(numbers[i])\n",
       "}\n",
       "console.log(newNumbers) \n"
      ],
      "text/plain": [
       "<IPython.core.display.Javascript object>"
      ]
     },
     "metadata": {},
     "output_type": "display_data"
    }
   ],
   "source": [
    "%%js\n",
    "\n",
    "var numbers = []\n",
    "var newNumbers = []\n",
    "var i = 0\n",
    "\n",
    "while (i < 100) {\n",
    "    numbers.push(i)\n",
    "    i += 1\n",
    "}\n",
    "for (var i of numbers) {\n",
    "    if (numbers[i] % 5 === 0)\n",
    "        newNumbers.push(numbers[i])\n",
    "    else if (numbers[i] % 2 === 0)\n",
    "        newNumbers.push(numbers[i])\n",
    "}\n",
    "console.log(newNumbers) \n"
   ]
  },
  {
   "cell_type": "code",
   "execution_count": 6,
   "metadata": {},
   "outputs": [
    {
     "data": {
      "application/javascript": [
       "\n",
       "var menu = {\n",
       "  \"burger\": 3.99,\n",
       "  \"fries\": 1.99,\n",
       "  \"drink\": 0.99\n",
       "};\n",
       "var total = 0;\n",
       "\n",
       "console.log(\"Menu\");\n",
       "for (var item in menu) {\n",
       "  console.log(item + \"  $\" + menu[item].toFixed(3));\n",
       "}\n",
       "\n",
       "while (true) {\n",
       "  var selectedItem = prompt(\"Enter an item from the menu (or type 'done' to finish):\");\n",
       "\n",
       "  if (selectedItem === 'done') {\n",
       "    break; \n",
       "  }\n",
       "\n",
       "  if (menu.hasOwnProperty(selectedItem)) {\n",
       "    total += menu[selectedItem];\n",
       "  } else {\n",
       "    console.log(\"Invalid item. Please select from the menu.\");\n",
       "  }\n",
       "}\n",
       "\n",
       "console.log(\"Your total is: \")\n",
       "console.log(\"Total: $\" + total.toFixed(3));\n"
      ],
      "text/plain": [
       "<IPython.core.display.Javascript object>"
      ]
     },
     "metadata": {},
     "output_type": "display_data"
    }
   ],
   "source": [
    "%%js\n",
    "\n",
    "var menu = {\n",
    "  \"burger\": 3.99,\n",
    "  \"fries\": 1.99,\n",
    "  \"drink\": 0.99\n",
    "};\n",
    "var total = 0;\n",
    "\n",
    "console.log(\"Menu\");\n",
    "for (var item in menu) {\n",
    "  console.log(item + \"  $\" + menu[item].toFixed(3));\n",
    "}\n",
    "\n",
    "while (true) {\n",
    "  var selectedItem = prompt(\"Enter an item from the menu (or type 'done' to finish):\");\n",
    "\n",
    "  if (selectedItem === 'done') {\n",
    "    break; \n",
    "  }\n",
    "\n",
    "  if (menu.hasOwnProperty(selectedItem)) {\n",
    "    total += menu[selectedItem];\n",
    "  } else {\n",
    "    console.log(\"Invalid item. Please select from the menu.\");\n",
    "  }\n",
    "}\n",
    "\n",
    "console.log(\"Your total is: \")\n",
    "console.log(\"Total: $\" + total.toFixed(3));"
   ]
  }
 ],
 "metadata": {
  "kernelspec": {
   "display_name": "Python 3 (ipykernel)",
   "language": "python",
   "name": "python3"
  },
  "language_info": {
   "codemirror_mode": {
    "name": "ipython",
    "version": 3
   },
   "file_extension": ".py",
   "mimetype": "text/x-python",
   "name": "python",
   "nbconvert_exporter": "python",
   "pygments_lexer": "ipython3",
   "version": "3.10.12"
  }
 },
 "nbformat": 4,
 "nbformat_minor": 2
}
