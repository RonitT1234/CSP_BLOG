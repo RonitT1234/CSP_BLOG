{
 "cells": [
  {
   "cell_type": "markdown",
   "metadata": {},
   "source": [
    "---\n",
    "layout: post\n",
    "title: 1.4 Correcting errors\n",
    "description: Practice with identifying and correcting code blocks\n",
    "type: ccc\n",
    "author: Safin Singh and Rohan Juneja\n",
    "permalink: /basics/js-debug\n",
    "hide: True\n",
    "---"
   ]
  },
  {
   "cell_type": "markdown",
   "metadata": {},
   "source": [
    "{% include nav_basics.html %}"
   ]
  },
  {
   "cell_type": "markdown",
   "metadata": {},
   "source": [
    "# IN PROGRESS"
   ]
  },
  {
   "cell_type": "markdown",
   "metadata": {},
   "source": [
    "[College Board Big Idea 1](https://apclassroom.collegeboard.org/103/home?unit=1)\n",
    "\n",
    "## Identifying and Correcting Errors (Unit 1.4)\n",
    "\n",
    "> Become familiar with types of errors and strategies for fixing them\n",
    "\n",
    "- Review CollegeBoard videos and take notes on blogssss\n",
    "- Complete assigned MCQ questions if applicable"
   ]
  },
  {
   "cell_type": "markdown",
   "metadata": {},
   "source": [
    "# Code Segments\n",
    "\n",
    "Practice fixing the following code segments!"
   ]
  },
  {
   "cell_type": "markdown",
   "metadata": {},
   "source": [
    "## Segment 1: Alphabet List\n",
    "\n",
    "Intended behavior: create a list of characters from the string contained in the variable `alphabet`\n",
    "\n",
    "### Code:"
   ]
  },
  {
   "cell_type": "code",
   "execution_count": 7,
   "metadata": {
    "vscode": {
     "languageId": "javascript"
    }
   },
   "outputs": [
    {
     "data": {
      "application/javascript": [
       "\n",
       "var alphabet = \"abcdefghijklmnopqrstuvwxyz\";\n",
       "var alphabetList = [];\n",
       "\n",
       "for (var i = 0; i < 10; i++) {\n",
       "\talphabetList.push(i);\n",
       "}\n",
       "\n",
       "console.log(alphabetList);\n",
       "\n",
       "var alphabet = \"abcdefghijklmnopqrstuvwxyz\";\n",
       "var alphabetList = [];\n",
       "\n",
       "for (var i = 0; i < 27; i++) {\n",
       "\talphabetList.push(alphabet[i]);\n",
       "}\n",
       "\n",
       "console.log(alphabetList);\n"
      ],
      "text/plain": [
       "<IPython.core.display.Javascript object>"
      ]
     },
     "metadata": {},
     "output_type": "display_data"
    }
   ],
   "source": [
    "%%js\n",
    "\n",
    "\n",
    "var alphabet = \"abcdefghijklmnopqrstuvwxyz\";\n",
    "var alphabetList = [];\n",
    "\n",
    "for (var i = 0; i < 27; i++) {\n",
    "\talphabetList.push(alphabet[i]);\n",
    "}\n",
    "\n",
    "console.log(alphabetList);"
   ]
  },
  {
   "cell_type": "markdown",
   "metadata": {},
   "source": [
    "### What I Changed\n",
    "\n",
    "I changed alphabetList.push(i) to alphabetList.push(alphabet[i])"
   ]
  },
  {
   "cell_type": "markdown",
   "metadata": {},
   "source": [
    "## Segment 2: Numbered Alphabet\n",
    "\n",
    "Intended behavior: print the number of a given alphabet letter within the alphabet. For example:\n",
    "```\n",
    "\"_\" is letter number _ in the alphabet\n",
    "```\n",
    "\n",
    "Where the underscores (_) are replaced with the letter and the position of that letter within the alphabet (e.g. a=1, b=2, etc.)\n",
    "\n",
    "### Code:"
   ]
  },
  {
   "cell_type": "code",
   "execution_count": 23,
   "metadata": {
    "vscode": {
     "languageId": "javascript"
    }
   },
   "outputs": [
    {
     "data": {
      "application/javascript": [
       "\n",
       "// Copy your previous code to built alphabetList here\n",
       "var alphabet = \"abcdefghijklmnopqrstuvwxyz\";\n",
       "var alphabetList = [];\n",
       "\n",
       "for (var i = 0; i < 27; i++) {\n",
       "  alphabetList.push(alphabet[i]);\n",
       "}\n",
       "\n",
       "let letterNumber = 15;\n",
       "\n",
       "for (var i = 0; i < alphabetList.length; i++) {\n",
       "  if (alphabetList[i] === alphabet[letterNumber - 1]) {\n",
       "    console.log(alphabetList[i] + \" is letter number \" + letterNumber + \" in the alphabet\");\n",
       "  }\n",
       "}\n",
       "// Should output:\n",
       "// \"e\" is letter number 5 in the alphabet\n"
      ],
      "text/plain": [
       "<IPython.core.display.Javascript object>"
      ]
     },
     "metadata": {},
     "output_type": "display_data"
    }
   ],
   "source": [
    "%%js\n",
    "\n",
    "// Copy your previous code to built alphabetList here\n",
    "var alphabet = \"abcdefghijklmnopqrstuvwxyz\";\n",
    "var alphabetList = [];\n",
    "\n",
    "for (var i = 0; i < 27; i++) {\n",
    "  alphabetList.push(alphabet[i]);\n",
    "}\n",
    "\n",
    "let letterNumber = 15;\n",
    "\n",
    "for (var i = 0; i < alphabetList.length; i++) {\n",
    "  if (alphabetList[i] === alphabet[letterNumber - 1]) {\n",
    "    console.log(alphabetList[i] + \" is letter number \" + letterNumber + \" in the alphabet\");\n",
    "  }\n",
    "}\n",
    "// Should output:\n",
    "// \"e\" is letter number 5 in the alphabet"
   ]
  },
  {
   "cell_type": "markdown",
   "metadata": {},
   "source": [
    "### What I Changed\n",
    "\n",
    "I changed the overall structure of the for loop and if statements contained inside"
   ]
  },
  {
   "cell_type": "markdown",
   "metadata": {},
   "source": [
    "## Segment 3: Odd Numbers\n",
    "\n",
    "Intended behavior: print a list of all the odd numbers below 10\n",
    "\n",
    "### Code:"
   ]
  },
  {
   "cell_type": "code",
   "execution_count": 29,
   "metadata": {
    "vscode": {
     "languageId": "javascript"
    }
   },
   "outputs": [
    {
     "data": {
      "application/javascript": [
       "\n",
       "let evens = [];\n",
       "let odds = [];\n",
       "let i = 0;\n",
       "\n",
       "while (i <= 10) {\n",
       "  evens.push(i);\n",
       "  if (i + 1 <= 10) {\n",
       "    odds.push(i + 1);\n",
       "  }\n",
       "  i += 2;\n",
       "}\n",
       "\n",
       "console.log(\"Evens: \" + evens);\n",
       "console.log(\"Odds: \" + odds);\n"
      ],
      "text/plain": [
       "<IPython.core.display.Javascript object>"
      ]
     },
     "metadata": {},
     "output_type": "display_data"
    }
   ],
   "source": [
    "%%js\n",
    "\n",
    "let evens = [];\n",
    "let odds = [];\n",
    "let i = 0;\n",
    "\n",
    "while (i <= 10) {\n",
    "  evens.push(i);\n",
    "  if (i + 1 <= 10) {\n",
    "    odds.push(i + 1);\n",
    "  }\n",
    "  i += 2;\n",
    "}\n",
    "\n",
    "console.log(\"Evens: \" + evens);\n",
    "console.log(\"Odds: \" + odds);"
   ]
  },
  {
   "cell_type": "markdown",
   "metadata": {},
   "source": [
    "### What I Changed\n",
    "\n",
    "I changed nothing to the orginal code but added one for counting all the odds in a while loop to make it more effecient"
   ]
  },
  {
   "cell_type": "markdown",
   "metadata": {},
   "source": [
    "# BELOW NOT EDITED"
   ]
  },
  {
   "cell_type": "markdown",
   "metadata": {},
   "source": [
    "The intended outcome is printing a number between 1 and 100 once, if it is a multiple of 2 or 5 \n",
    "- What values are outputted incorrectly. Why? \n",
    "The values that are both multiples of 5 and 2.\n",
    "- Make changes to get the intended outcome.\n",
    "Changing the second if statement to an else statement"
   ]
  },
  {
   "cell_type": "code",
   "execution_count": 35,
   "metadata": {
    "vscode": {
     "languageId": "javascript"
    }
   },
   "outputs": [
    {
     "data": {
      "application/javascript": [
       "\n",
       "var numbers = []\n",
       "var newNumbers = []\n",
       "var i = 0\n",
       "\n",
       "while (i < 100) {\n",
       "    numbers.push(i)\n",
       "    i += 1\n",
       "}\n",
       "for (var i of numbers) {\n",
       "    if (numbers[i] % 5 === 0)\n",
       "        newNumbers.push(numbers[i])\n",
       "    if (numbers[i] % 2 === 0)\n",
       "        newNumbers.push(numbers[i])\n",
       "}\n",
       "console.log(newNumbers) \n",
       "\n"
      ],
      "text/plain": [
       "<IPython.core.display.Javascript object>"
      ]
     },
     "metadata": {},
     "output_type": "display_data"
    }
   ],
   "source": [
    "%%js\n",
    "\n",
    "var numbers = []\n",
    "var newNumbers = []\n",
    "var i = 0\n",
    "\n",
    "while (i < 100) {\n",
    "    numbers.push(i)\n",
    "    i += 1\n",
    "}\n",
    "for (var i of numbers) {\n",
    "    if (numbers[i] % 5 === 0)\n",
    "        newNumbers.push(numbers[i])\n",
    "    if (numbers[i] % 2 === 0)\n",
    "        newNumbers.push(numbers[i])\n",
    "}\n",
    "console.log(newNumbers) \n",
    "\n"
   ]
  },
  {
   "cell_type": "markdown",
   "metadata": {},
   "source": [
    "# Challenge\n",
    "\n",
    "This code segment is at a very early stage of implementation.\n",
    "- What are some ways to (user) error proof this code?\n",
    "adding lots of commments to clarify what each part of code functions as. \n",
    "- The code should be able to calculate the cost of the meal of the user\n",
    "\n",
    "Hint:\n",
    "- write a “single” test describing an expectation of the program of the program\n",
    "- test - input burger, expect output of burger price\n",
    "- run the test, which should fail because the program lacks that feature\n",
    "- write “just enough” code, the simplest possible, to make the test pass\n",
    "\n",
    "Then repeat this process until you get program working like you want it to work."
   ]
  },
  {
   "cell_type": "code",
   "execution_count": 40,
   "metadata": {
    "vscode": {
     "languageId": "javascript"
    }
   },
   "outputs": [
    {
     "ename": "SyntaxError",
     "evalue": "invalid syntax (1508407575.py, line 1)",
     "output_type": "error",
     "traceback": [
      "\u001b[0;36m  File \u001b[0;32m\"/tmp/ipykernel_145456/1508407575.py\"\u001b[0;36m, line \u001b[0;32m1\u001b[0m\n\u001b[0;31m    var menu = {\u001b[0m\n\u001b[0m        ^\u001b[0m\n\u001b[0;31mSyntaxError\u001b[0m\u001b[0;31m:\u001b[0m invalid syntax\n"
     ]
    }
   ],
   "source": [
    "%%js\n",
    "\n",
    "var menu =  {\"burger\": 3.99,\n",
    "         \"fries\": 1.99,\n",
    "         \"drink\": 0.99}\n",
    "var total = 0\n",
    "\n",
    "//shows the user the menu and prompts them to select an item\n",
    "console.log(\"Menu\")\n",
    "for (var item in menu) {\n",
    "    console.log(item + \"  $\" + menu[item].toFixed(2)) //why is toFixed used?\n",
    "}\n",
    "//ideally the code should support mutliple items\n",
    "var item = \"burger\"\n",
    "\n",
    "//code should add the price of the menu items selected by the user \n",
    "console.log(total)"
   ]
  },
  {
   "cell_type": "code",
   "execution_count": 47,
   "metadata": {},
   "outputs": [
    {
     "data": {
      "application/javascript": [
       "\n",
       "var menu = {\n",
       "  \"burger\": 3.99,\n",
       "  \"fries\": 1.99,\n",
       "  \"drink\": 0.99\n",
       "};\n",
       "var total = 0;\n",
       "\n",
       "console.log(\"Menu\");\n",
       "for (var item in menu) {\n",
       "  console.log(item + \"  $\" + menu[item].toFixed(3));\n",
       "}\n",
       "\n",
       "while (true) {\n",
       "  var selectedItem = prompt(\"Enter an item from the menu (or type 'done' to finish):\");\n",
       "\n",
       "  if (selectedItem === 'done') {\n",
       "    break; \n",
       "  }\n",
       "\n",
       "  if (menu.hasOwnProperty(selectedItem)) {\n",
       "    total += menu[selectedItem];\n",
       "  } else {\n",
       "    console.log(\"Invalid item. Please select from the menu.\");\n",
       "  }\n",
       "}\n",
       "\n",
       "console.log(\"Your total is: \")\n",
       "console.log(\"Total: $\" + total.toFixed(3));\n"
      ],
      "text/plain": [
       "<IPython.core.display.Javascript object>"
      ]
     },
     "metadata": {},
     "output_type": "display_data"
    }
   ],
   "source": [
    "%%js\n",
    "\n",
    "var menu = {\n",
    "  \"burger\": 3.99,\n",
    "  \"fries\": 1.99,\n",
    "  \"drink\": 0.99\n",
    "};\n",
    "var total = 0;\n",
    "\n",
    "console.log(\"Menu\");\n",
    "for (var item in menu) {\n",
    "  console.log(item + \"  $\" + menu[item].toFixed(3));\n",
    "}\n",
    "\n",
    "while (true) {\n",
    "  var selectedItem = prompt(\"Enter an item from the menu (or type 'done' to finish):\");\n",
    "\n",
    "  if (selectedItem === 'done') {\n",
    "    break; \n",
    "  }\n",
    "\n",
    "  if (menu.hasOwnProperty(selectedItem)) {\n",
    "    total += menu[selectedItem];\n",
    "  } else {\n",
    "    console.log(\"Invalid item. Please select from the menu.\");\n",
    "  }\n",
    "}\n",
    "\n",
    "console.log(\"Your total is: \")\n",
    "console.log(\"Total: $\" + total.toFixed(3));"
   ]
  },
  {
   "cell_type": "markdown",
   "metadata": {},
   "source": [
    "## Hacks\n",
    "- Fix the errors in the first three segments in this notebook and say what you changed in the code cell under \"What I Changed\" (Challenge is optional)"
   ]
  }
 ],
 "metadata": {
  "kernelspec": {
   "display_name": "Python 3 (ipykernel)",
   "language": "python",
   "name": "python3"
  },
  "language_info": {
   "codemirror_mode": {
    "name": "ipython",
    "version": 3
   },
   "file_extension": ".py",
   "mimetype": "text/x-python",
   "name": "python",
   "nbconvert_exporter": "python",
   "pygments_lexer": "ipython3",
   "version": "3.10.12"
  },
  "vscode": {
   "interpreter": {
    "hash": "aee8b7b246df8f9039afb4144a1f6fd8d2ca17a180786b69acc140d282b71a49"
   }
  }
 },
 "nbformat": 4,
 "nbformat_minor": 2
}
