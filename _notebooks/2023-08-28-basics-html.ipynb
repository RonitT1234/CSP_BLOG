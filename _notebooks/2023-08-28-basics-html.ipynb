{
 "cells": [
  {
   "cell_type": "markdown",
   "metadata": {},
   "source": [
    "---\n",
    "layout: post\n",
    "hide: True\n",
    "title: Basics of HTML Guide\n",
    "description: An introduction to basic HTML, and resources to learn more.\n",
    "type: ccc\n",
    "permalink: /basics/html\n",
    "author: Rohan Juneja\n",
    "---"
   ]
  },
  {
   "cell_type": "raw",
   "metadata": {},
   "source": [
    "{% include nav_basics.html %}\n"
   ]
  },
  {
   "cell_type": "markdown",
   "metadata": {},
   "source": [
    "# HACK COMPLETE"
   ]
  },
  {
   "cell_type": "code",
   "execution_count": 85,
   "metadata": {
    "vscode": {
     "languageId": "html"
    }
   },
   "outputs": [
    {
     "data": {
      "text/html": [
       "<!-- First Div -->\n",
       "<div>\n",
       "    \n",
       "    <strong style=\"background-color: black; color: #00FF00;\">Batman HTML Hacks By: Ronit Thomas, Aswhin Visvananth, Vance Reynolds, Jared Baza</strong><br>\n",
       "\n",
       "</div><br>\n",
       "\n",
       "\n",
       "\n",
       "\n",
       "\n",
       "<!-- Third Div -->\n",
       "<div>\n",
       "    <body>\n",
       "        <head>\n",
       "           <title>Superhero Text Entry</title>\n",
       "        </head>\n",
       "        <p style=\"background-color: black; color: #00FF00;\">Add your Superhero Information below:</p>\n",
       "        <form style=\"background-color: black; color: #00FF00;\">\n",
       "           Enter your Name:<br> <input type=\"text\" name=\"name\">\n",
       "           <br>\n",
       "           Enter your Alias<br> <input type=\"text\" name=\"alias\">\n",
       "           <br>\n",
       "           Enter your Power:<br> <input type=\"text\" name=\"power\">\n",
       "        </form>\n",
       "     </body>\n",
       "\n",
       "     <!-- Third Div -->\n",
       "\n",
       "<div><br>\n",
       "    <a href=\"https://www.youtube.com/\" style=\"color: 00FF00; background-color: #0e2dde74;\">Batman Youtube Video</a><br>  \n",
       "    <a style=\"background-color: black; color: #00FF00;\" href=\"https://www.youtube.com/shorts/4W1ztRlJ7D0\">\n",
       "        <button onllick button style=\"background-color: #333333; color:#00FF00; border-radius: 10px\">Batman Edit</button>\n",
       "    </a><br> \n",
       "\n",
       "\n",
       "<button id=\"myButton\" style=\"background-color: #333333; color:#00FF00; border-radius: 10px\">Click For Luck</button><br>\n",
       "<strong style=\"background-color: black; color: #00FF00;\">The End</strong><br>\n",
       "\n",
       "<script>\n",
       "    function buttonClick() {\n",
       "        alert('Luck Applied!');\n",
       "    }\n",
       "    var buttonElement = document.getElementById('myButton');\n",
       "    buttonElement.addEventListener('click', buttonClick);\n",
       "</script>\n",
       "</div>\n"
      ],
      "text/plain": [
       "<IPython.core.display.HTML object>"
      ]
     },
     "metadata": {},
     "output_type": "display_data"
    }
   ],
   "source": [
    "%%html\n",
    "<!-- First Div -->\n",
    "<div>\n",
    "    \n",
    "    <strong style=\"background-color: black; color: #00FF00;\">Batman HTML Hacks By: Ronit Thomas, Aswhin Visvananth, Vance Reynolds, Jared Baza</strong><br>\n",
    "\n",
    "</div><br>\n",
    "\n",
    "\n",
    "\n",
    "\n",
    "\n",
    "<!-- Third Div -->\n",
    "<div>\n",
    "    <body>\n",
    "        <head>\n",
    "           <title>Superhero Text Entry</title>\n",
    "        </head>\n",
    "        <p style=\"background-color: black; color: #00FF00;\">Add your Superhero Information below:</p>\n",
    "        <form style=\"background-color: black; color: #00FF00;\">\n",
    "           Enter your Name:<br> <input type=\"text\" name=\"name\">\n",
    "           <br>\n",
    "           Enter your Alias<br> <input type=\"text\" name=\"alias\">\n",
    "           <br>\n",
    "           Enter your Power:<br> <input type=\"text\" name=\"power\">\n",
    "        </form>\n",
    "     </body>\n",
    "\n",
    "     <!-- Third Div -->\n",
    "\n",
    "<div><br>\n",
    "    <a href=\"https://www.youtube.com/\" style=\"color: 00FF00; background-color: #0e2dde74;\">Batman Youtube Video</a><br>  \n",
    "    <a style=\"background-color: black; color: #00FF00;\" href=\"https://www.youtube.com/shorts/4W1ztRlJ7D0\">\n",
    "        <button onllick button style=\"background-color: #333333; color:#00FF00; border-radius: 10px\">Batman Edit</button>\n",
    "    </a><br> \n",
    "\n",
    "\n",
    "<button id=\"myButton\" style=\"background-color: #333333; color:#00FF00; border-radius: 10px\">Click For Luck</button><br>\n",
    "<strong style=\"background-color: black; color: #00FF00;\">The End</strong><br>\n",
    "\n",
    "<script>\n",
    "    function buttonClick() {\n",
    "        alert('Luck Applied!');\n",
    "    }\n",
    "    var buttonElement = document.getElementById('myButton');\n",
    "    buttonElement.addEventListener('click', buttonClick);\n",
    "</script>\n",
    "</div>"
   ]
  },
  {
   "cell_type": "markdown",
   "metadata": {},
   "source": [
    "\n",
    "Similar function to Markdown, syntax definess how stuff should be displayed\n",
    "- HTML is based on beginning and closing tags `<tagname>content</tagname>`\n",
    "  - Notes the \"/\" on the ending or closing tag of the pair"
   ]
  },
  {
   "cell_type": "markdown",
   "metadata": {},
   "source": [
    "## Compare markdown to html below\n",
    "This below example shows comparison of a [heading](https://www.w3schools.com/html/html_headings.asp) and [paragraph](https://www.w3schools.com/html/html_paragraphs.asp).  Click on links to see many more HTML examples."
   ]
  },
  {
   "cell_type": "code",
   "execution_count": 8,
   "metadata": {},
   "outputs": [
    {
     "data": {
      "text/markdown": [
       "\n",
       "### Markdown: This is a Heading\n",
       "\n",
       "This is a paragraph\n"
      ],
      "text/plain": [
       "<IPython.core.display.Markdown object>"
      ]
     },
     "metadata": {},
     "output_type": "display_data"
    }
   ],
   "source": [
    "%%markdown\n",
    "\n",
    "### Markdown: This is a Heading\n",
    "\n",
    "This is a paragraph\n"
   ]
  },
  {
   "cell_type": "code",
   "execution_count": 9,
   "metadata": {
    "vscode": {
     "languageId": "html"
    }
   },
   "outputs": [
    {
     "data": {
      "text/html": [
       "\n",
       "<h3>HTML: This is a Heading</h3>\n",
       "<p>This is a paragraph.</p>\n"
      ],
      "text/plain": [
       "<IPython.core.display.HTML object>"
      ]
     },
     "metadata": {},
     "output_type": "display_data"
    }
   ],
   "source": [
    "%%html\n",
    "\n",
    "<h3>HTML: This is a Heading</h3>\n",
    "<p>This is a paragraph.</p>"
   ]
  },
  {
   "cell_type": "markdown",
   "metadata": {},
   "source": [
    "# Attributes\n",
    "- Learn about [attributes](https://www.w3schools.com/html/html_attributes.asp) \n",
    "- Tags can have additional info in the form of attributes\n",
    "- Attributes usually come in name/value pairs like: name=\"value\"\n",
    "\n",
    "```html\n",
    "<tagname attribute_name=\"attribute_value\" another_attribute=\"another_value\">inner html text</tagname>\n",
    "```\n",
    "\n",
    "- href example with attribute for web link and inner html to describe link\n",
    "\n",
    "```html\n",
    "<a href=\"https://www.w3schools.com/html/default.asp\">Visit W3Schools HTML Page</a>\n",
    "```"
   ]
  },
  {
   "cell_type": "markdown",
   "metadata": {},
   "source": [
    "## Sample Markdown vs HTML Tags\n",
    "Image Tag - Markdown\n",
    "\n",
    "```md\n",
    "![describe image](link to image)\n",
    "```\n",
    "\n",
    "Image Tag - HTML\n",
    "\n",
    "```html\n",
    "<!-- no content so no end tag, width/height is optional (in pixels) -->\n",
    "<img alt=\"describe image\" src=\"link to image\" width=\"100\" height=\"200\">\n",
    "```\n",
    "\n",
    "Link Tag - Markdown\n",
    "\n",
    "```md\n",
    "[link text](link)\n",
    "```\n",
    "\n",
    "Link Tag - HTML\n",
    "\n",
    "```html\n",
    "<a href=\"link\">link text</a>\n",
    "```\n",
    "\n",
    "Bolded Text - Markdown\n",
    "\n",
    "```md\n",
    "**Bolded Text**\n",
    "```\n",
    "\n",
    "Bolded Text - HTML\n",
    "\n",
    "```md\n",
    "<strong>Bolded Text</strong>\n",
    "```\n",
    "\n",
    "Italic Text - Markdown\n",
    "\n",
    "```md\n",
    "*Italic Text*\n",
    "```\n",
    "\n",
    "Italic Text - HTML\n",
    "\n",
    "```md\n",
    "<i>Italic Text</i>\n",
    "```"
   ]
  },
  {
   "cell_type": "markdown",
   "metadata": {},
   "source": [
    "# More tags (not really in markdown)\n",
    "P tag (just represeants a paragraph/normal text)\n",
    "\n",
    "```html\n",
    "<p>This is a paragraph</p>\n",
    "```\n",
    "\n",
    "Button\n",
    "\n",
    "```html\n",
    "<button>some button text</button>\n",
    "```\n",
    "\n",
    "Div (groups together related content)\n",
    "\n",
    "```html\n",
    "<!-- first information -->\n",
    "<div>\n",
    "    <!-- notice how tags can be put INSIDE eachother -->\n",
    "    <p>This is the first paragarph of section 1</p>\n",
    "    <p>This is the second paragraph of section 1</p>\n",
    "</div>\n",
    "\n",
    "<!-- second information -->\n",
    "<div>\n",
    "    <!-- notice how tags can be put INSIDE eachother -->\n",
    "    <p>This is the first paragarph of section 2</p>\n",
    "    <p>This is the second paragraph of section 2</p>\n",
    "</div>\n",
    "```\n",
    "\n"
   ]
  },
  {
   "cell_type": "markdown",
   "metadata": {},
   "source": [
    "# Resources\n",
    "- https://www.w3schools.com/html/default.asp\n",
    "- I will show a demo of how to find information on this website"
   ]
  },
  {
   "cell_type": "markdown",
   "metadata": {},
   "source": [
    "# HTML Hacks\n",
    "- Below is a wireframe for an HTML element you will create. A wireframe is a rough visual representation of HTML elements on a page and isn't necessarily to scale or have the exact styling that the final HTML will have. Using the syntax above, try to create an HTML snippet that corresponds to the below wireframe.\n",
    "- The \"a tags\" can contain any links that you want\n",
    "\n",
    "![wireframe for html hacks]({{ site.baseurl }}/images/wireframe.png)"
   ]
  },
  {
   "cell_type": "markdown",
   "metadata": {},
   "source": [
    "# My Hacks"
   ]
  },
  {
   "cell_type": "code",
   "execution_count": 84,
   "metadata": {
    "vscode": {
     "languageId": "html"
    }
   },
   "outputs": [
    {
     "data": {
      "text/html": [
       "<!-- First Div -->\n",
       "<div>\n",
       "    \n",
       "    <strong style=\"background-color: black; color: #00FF00;\">Batman HTML Hacks By: Ronit Thomas, Aswhin Visvananth, Vance Reynolds, Jared Baza</strong><br>\n",
       "\n",
       "</div><br>\n",
       "\n",
       "\n",
       "\n",
       "\n",
       "\n",
       "<!-- Third Div -->\n",
       "<div>\n",
       "    <body>\n",
       "        <head>\n",
       "           <title>Superhero Text Entry</title>\n",
       "        </head>\n",
       "        <p style=\"background-color: black; color: #00FF00;\">Add your Superhero Information below:</p>\n",
       "        <form style=\"background-color: black; color: #00FF00;\">\n",
       "           Enter your Name:<br> <input type=\"text\" name=\"name\">\n",
       "           <br>\n",
       "           Enter your Alias<br> <input type=\"text\" name=\"alias\">\n",
       "           <br>\n",
       "           Enter your Power:<br> <input type=\"text\" name=\"power\">\n",
       "        </form>\n",
       "     </body>\n",
       "\n",
       "     <!-- Third Div -->\n",
       "\n",
       "<div><br>\n",
       "    <a href=\"https://www.youtube.com/\" style=\"color: 00FF00; background-color: #0e2dde74;\">Batman Youtube Video</a><br>  \n",
       "    <a style=\"background-color: black; color: #00FF00;\" href=\"https://www.youtube.com/shorts/4W1ztRlJ7D0\">\n",
       "        <button onllick button style=\"background-color: #333333; color:#00FF00; border-radius: 10px\">Batman Edit</button>\n",
       "    </a><br> \n",
       "\n",
       "\n",
       "<button id=\"myButton\" style=\"background-color: #333333; color:#00FF00; border-radius: 10px\">Click For Luck</button><br>\n",
       "<strong style=\"background-color: black; color: #00FF00;\">The End</strong><br>\n",
       "\n",
       "<script>\n",
       "    function buttonClick() {\n",
       "        alert('Luck Applied!');\n",
       "    }\n",
       "    var buttonElement = document.getElementById('myButton');\n",
       "    buttonElement.addEventListener('click', buttonClick);\n",
       "</script>\n",
       "</div>\n"
      ],
      "text/plain": [
       "<IPython.core.display.HTML object>"
      ]
     },
     "metadata": {},
     "output_type": "display_data"
    }
   ],
   "source": [
    "%%html\n",
    "<!-- First Div -->\n",
    "<div>\n",
    "    \n",
    "    <strong style=\"background-color: black; color: #00FF00;\">Batman HTML Hacks By: Ronit Thomas, Aswhin Visvananth, Vance Reynolds, Jared Baza</strong><br>\n",
    "\n",
    "</div><br>\n",
    "\n",
    "\n",
    "\n",
    "\n",
    "\n",
    "<!-- Third Div -->\n",
    "<div>\n",
    "    <body>\n",
    "        <head>\n",
    "           <title>Superhero Text Entry</title>\n",
    "        </head>\n",
    "        <p style=\"background-color: black; color: #00FF00;\">Add your Superhero Information below:</p>\n",
    "        <form style=\"background-color: black; color: #00FF00;\">\n",
    "           Enter your Name:<br> <input type=\"text\" name=\"name\">\n",
    "           <br>\n",
    "           Enter your Alias<br> <input type=\"text\" name=\"alias\">\n",
    "           <br>\n",
    "           Enter your Power:<br> <input type=\"text\" name=\"power\">\n",
    "        </form>\n",
    "     </body>\n",
    "\n",
    "     <!-- Third Div -->\n",
    "\n",
    "<div><br>\n",
    "    <a href=\"https://www.youtube.com/\" style=\"color: 00FF00; background-color: #0e2dde74;\">Batman Youtube Video</a><br>  \n",
    "    <a style=\"background-color: black; color: #00FF00;\" href=\"https://www.youtube.com/shorts/4W1ztRlJ7D0\">\n",
    "        <button onllick button style=\"background-color: #333333; color:#00FF00; border-radius: 10px\">Batman Edit</button>\n",
    "    </a><br> \n",
    "\n",
    "\n",
    "<button id=\"myButton\" style=\"background-color: #333333; color:#00FF00; border-radius: 10px\">Click For Luck</button><br>\n",
    "<strong style=\"background-color: black; color: #00FF00;\">The End</strong><br>\n",
    "\n",
    "<script>\n",
    "    function buttonClick() {\n",
    "        alert('Luck Applied!');\n",
    "    }\n",
    "    var buttonElement = document.getElementById('myButton');\n",
    "    buttonElement.addEventListener('click', buttonClick);\n",
    "</script>\n",
    "</div>"
   ]
  }
 ],
 "metadata": {
  "kernelspec": {
   "display_name": "Python 3",
   "language": "python",
   "name": "python3"
  },
  "language_info": {
   "codemirror_mode": {
    "name": "ipython",
    "version": 3
   },
   "file_extension": ".py",
   "mimetype": "text/x-python",
   "name": "python",
   "nbconvert_exporter": "python",
   "pygments_lexer": "ipython3",
   "version": "3.10.12"
  },
  "orig_nbformat": 4
 },
 "nbformat": 4,
 "nbformat_minor": 2
}
