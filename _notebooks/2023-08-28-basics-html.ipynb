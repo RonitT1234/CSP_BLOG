{
 "cells": [
  {
   "cell_type": "markdown",
   "metadata": {},
   "source": [
    "---\n",
    "layout: post\n",
    "hide: True\n",
    "title: Basics of HTML Guide\n",
    "description: An introduction to basic HTML, and resources to learn more.\n",
    "type: ccc\n",
    "permalink: /basics/html\n",
    "author: Rohan Juneja\n",
    "---"
   ]
  },
  {
   "cell_type": "raw",
   "metadata": {},
   "source": [
    "{% include nav_basics.html %}\n"
   ]
  },
  {
   "cell_type": "markdown",
   "metadata": {},
   "source": [
    "# HACK COMPLETE"
   ]
  },
  {
   "cell_type": "code",
   "execution_count": 85,
   "metadata": {
    "vscode": {
     "languageId": "html"
    }
   },
   "outputs": [
    {
     "data": {
      "text/html": [
       "<!-- First Div -->\n",
       "<div>\n",
       "    \n",
       "    <strong style=\"background-color: black; color: #00FF00;\">Batman HTML Hacks By: Ronit Thomas, Aswhin Visvananth, Vance Reynolds, Jared Baza</strong><br>\n",
       "\n",
       "</div><br>\n",
       "\n",
       "\n",
       "\n",
       "\n",
       "\n",
       "<!-- Third Div -->\n",
       "<div>\n",
       "    <body>\n",
       "        <head>\n",
       "           <title>Superhero Text Entry</title>\n",
       "        </head>\n",
       "        <p style=\"background-color: black; color: #00FF00;\">Add your Superhero Information below:</p>\n",
       "        <form style=\"background-color: black; color: #00FF00;\">\n",
       "           Enter your Name:<br> <input type=\"text\" name=\"name\">\n",
       "           <br>\n",
       "           Enter your Alias<br> <input type=\"text\" name=\"alias\">\n",
       "           <br>\n",
       "           Enter your Power:<br> <input type=\"text\" name=\"power\">\n",
       "        </form>\n",
       "     </body>\n",
       "\n",
       "     <!-- Third Div -->\n",
       "\n",
       "<div><br>\n",
       "    <a href=\"https://www.youtube.com/\" style=\"color: 00FF00; background-color: #0e2dde74;\">Batman Youtube Video</a><br>  \n",
       "    <a style=\"background-color: black; color: #00FF00;\" href=\"https://www.youtube.com/shorts/4W1ztRlJ7D0\">\n",
       "        <button onllick button style=\"background-color: #333333; color:#00FF00; border-radius: 10px\">Batman Edit</button>\n",
       "    </a><br> \n",
       "\n",
       "\n",
       "<button id=\"myButton\" style=\"background-color: #333333; color:#00FF00; border-radius: 10px\">Click For Luck</button><br>\n",
       "<strong style=\"background-color: black; color: #00FF00;\">The End</strong><br>\n",
       "\n",
       "<script>\n",
       "    function buttonClick() {\n",
       "        alert('Luck Applied!');\n",
       "    }\n",
       "    var buttonElement = document.getElementById('myButton');\n",
       "    buttonElement.addEventListener('click', buttonClick);\n",
       "</script>\n",
       "</div>\n"
      ],
      "text/plain": [
       "<IPython.core.display.HTML object>"
      ]
     },
     "metadata": {},
     "output_type": "display_data"
    }
   ],
   "source": [
    "%%html\n",
    "<!-- First Div -->\n",
    "<div>\n",
    "    \n",
    "    <strong style=\"background-color: black; color: #00FF00;\">Batman HTML Hacks By: Ronit Thomas, Aswhin Visvananth, Vance Reynolds, Jared Baza</strong><br>\n",
    "\n",
    "</div><br>\n",
    "\n",
    "\n",
    "\n",
    "\n",
    "\n",
    "<!-- Third Div -->\n",
    "<div>\n",
    "    <body>\n",
    "        <head>\n",
    "           <title>Superhero Text Entry</title>\n",
    "        </head>\n",
    "        <p style=\"background-color: black; color: #00FF00;\">Add your Superhero Information below:</p>\n",
    "        <form style=\"background-color: black; color: #00FF00;\">\n",
    "           Enter your Name:<br> <input type=\"text\" name=\"name\">\n",
    "           <br>\n",
    "           Enter your Alias<br> <input type=\"text\" name=\"alias\">\n",
    "           <br>\n",
    "           Enter your Power:<br> <input type=\"text\" name=\"power\">\n",
    "        </form>\n",
    "     </body>\n",
    "\n",
    "     <!-- Third Div -->\n",
    "\n",
    "<div><br>\n",
    "    <a href=\"https://www.youtube.com/\" style=\"color: 00FF00; background-color: #0e2dde74;\">Batman Youtube Video</a><br>  \n",
    "    <a style=\"background-color: black; color: #00FF00;\" href=\"https://www.youtube.com/shorts/4W1ztRlJ7D0\">\n",
    "        <button onllick button style=\"background-color: #333333; color:#00FF00; border-radius: 10px\">Batman Edit</button>\n",
    "    </a><br> \n",
    "\n",
    "\n",
    "<button id=\"myButton\" style=\"background-color: #333333; color:#00FF00; border-radius: 10px\">Click For Luck</button><br>\n",
    "<strong style=\"background-color: black; color: #00FF00;\">The End</strong><br>\n",
    "\n",
    "<script>\n",
    "    function buttonClick() {\n",
    "        alert('Luck Applied!');\n",
    "    }\n",
    "    var buttonElement = document.getElementById('myButton');\n",
    "    buttonElement.addEventListener('click', buttonClick);\n",
    "</script>\n",
    "</div>"
   ]
  }
 ],
 "metadata": {
  "kernelspec": {
   "display_name": "Python 3",
   "language": "python",
   "name": "python3"
  },
  "language_info": {
   "codemirror_mode": {
    "name": "ipython",
    "version": 3
   },
   "file_extension": ".py",
   "mimetype": "text/x-python",
   "name": "python",
   "nbconvert_exporter": "python",
   "pygments_lexer": "ipython3",
   "version": "3.10.12"
  },
  "orig_nbformat": 4
 },
 "nbformat": 4,
 "nbformat_minor": 2
}
